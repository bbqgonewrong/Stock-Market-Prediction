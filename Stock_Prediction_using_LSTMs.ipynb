{
  "nbformat": 4,
  "nbformat_minor": 0,
  "metadata": {
    "colab": {
      "name": "Stock Prediction using LSTMs.ipynb",
      "provenance": [],
      "toc_visible": true,
      "collapsed_sections": [],
      "authorship_tag": "ABX9TyNKwfKyj+IHtQpqqU3dF8+I",
      "include_colab_link": true
    },
    "kernelspec": {
      "name": "python3",
      "display_name": "Python 3"
    },
    "language_info": {
      "name": "python"
    }
  },
  "cells": [
    {
      "cell_type": "markdown",
      "metadata": {
        "id": "view-in-github",
        "colab_type": "text"
      },
      "source": [
        "<a href=\"https://colab.research.google.com/github/bbqgonewrong/Stock-Market-Prediction/blob/main/Stock_Prediction_using_LSTMs.ipynb\" target=\"_parent\"><img src=\"https://colab.research.google.com/assets/colab-badge.svg\" alt=\"Open In Colab\"/></a>"
      ]
    },
    {
      "cell_type": "markdown",
      "source": [
        "#Importing Libraries"
      ],
      "metadata": {
        "id": "tFyq4Y0cO0CC"
      }
    },
    {
      "cell_type": "code",
      "execution_count": null,
      "metadata": {
        "id": "5M2NJLOhOGkl"
      },
      "outputs": [],
      "source": [
        "import pandas as pd\n",
        "import numpy as np\n",
        "import tensorflow as tf\n",
        "import datetime\n",
        "import matplotlib.pyplot as plt\n",
        "from tensorflow.keras import Sequential\n",
        "from tensorflow.keras.optimizers import Adam\n",
        "from tensorflow.keras import layers\n"
      ]
    },
    {
      "cell_type": "code",
      "source": [
        "df = pd.read_csv('/content/MSFT.csv')"
      ],
      "metadata": {
        "id": "UEs2od1NPChK"
      },
      "execution_count": null,
      "outputs": []
    },
    {
      "cell_type": "code",
      "source": [
        "df.Close.plot()"
      ],
      "metadata": {
        "colab": {
          "base_uri": "https://localhost:8080/",
          "height": 282
        },
        "id": "sZvIZ85kPS-0",
        "outputId": "4618be14-68f5-45d0-e39c-40b45bd03439"
      },
      "execution_count": null,
      "outputs": [
        {
          "output_type": "execute_result",
          "data": {
            "text/plain": [
              "<matplotlib.axes._subplots.AxesSubplot at 0x7f11a2d8e410>"
            ]
          },
          "metadata": {},
          "execution_count": 4
        },
        {
          "output_type": "display_data",
          "data": {
            "text/plain": [
              "<Figure size 432x288 with 1 Axes>"
            ],
            "image/png": "[encoded data removed]"
          },
          "metadata": {
            "needs_background": "light"
          }
        }
      ]
    },
    {
      "cell_type": "code",
      "source": [
        "#Only using the close value\n",
        "df = df[['Date','Close']]"
      ],
      "metadata": {
        "id": "eS9oW8oLPgNb"
      },
      "execution_count": null,
      "outputs": []
    },
    {
      "cell_type": "markdown",
      "source": [
        ""
      ],
      "metadata": {
        "id": "1GViQDcSQEvP"
      }
    },
    {
      "cell_type": "markdown",
      "source": [
        "#Creating a function in order to convert the date column(stored as string) into date time variable type using a function"
      ],
      "metadata": {
        "id": "U52LTNy7QEqG"
      }
    },
    {
      "cell_type": "code",
      "source": [
        "def str_to_datetime(s):\n",
        "  split = s.split('-')\n",
        "  year,month,day = int(split[0]),int(split[1]),int(split[2])\n",
        "  return datetime.datetime(year=year,month=month,day=day)"
      ],
      "metadata": {
        "id": "NpelvM2WPmHa"
      },
      "execution_count": null,
      "outputs": []
    },
    {
      "cell_type": "code",
      "source": [
        "df['Date'] = df['Date'].apply(str_to_datetime)"
      ],
      "metadata": {
        "id": "XuBqDvzuQPBQ"
      },
      "execution_count": null,
      "outputs": []
    },
    {
      "cell_type": "code",
      "source": [
        "df.dtypes"
      ],
      "metadata": {
        "colab": {
          "base_uri": "https://localhost:8080/"
        },
        "id": "4iRUP98XQVxh",
        "outputId": "c208d18a-0bf9-4428-97dd-423f4bc6a5ea"
      },
      "execution_count": null,
      "outputs": [
        {
          "output_type": "execute_result",
          "data": {
            "text/plain": [
              "Date     datetime64[ns]\n",
              "Close           float64\n",
              "dtype: object"
            ]
          },
          "metadata": {},
          "execution_count": 12
        }
      ]
    },
    {
      "cell_type": "code",
      "source": [
        "df.index = df.pop('Date')"
      ],
      "metadata": {
        "id": "7bCNst4jQmJq"
      },
      "execution_count": null,
      "outputs": []
    },
    {
      "cell_type": "code",
      "source": [
        "df"
      ],
      "metadata": {
        "id": "DqedfKxcQsuL"
      },
      "execution_count": null,
      "outputs": []
    },
    {
      "cell_type": "code",
      "source": [
        "df.plot()"
      ],
      "metadata": {
        "colab": {
          "base_uri": "https://localhost:8080/",
          "height": 286
        },
        "id": "6SBHJ7BdQuxj",
        "outputId": "c9018de9-9823-4bea-82b1-fc7152d05208"
      },
      "execution_count": null,
      "outputs": [
        {
          "output_type": "execute_result",
          "data": {
            "text/plain": [
              "<matplotlib.axes._subplots.AxesSubplot at 0x7f11a24d5ad0>"
            ]
          },
          "metadata": {},
          "execution_count": 15
        },
        {
          "output_type": "display_data",
          "data": {
            "text/plain": [
              "<Figure size 432x288 with 1 Axes>"
            ],
            "image/png": "[encoded data removed]"
          },
          "metadata": {
            "needs_background": "light"
          }
        }
      ]
    },
    {
      "cell_type": "markdown",
      "source": [
        "#Creating target variables by using previous output as next label"
      ],
      "metadata": {
        "id": "O-9f8zDPQ3V9"
      }
    },
    {
      "cell_type": "code",
      "source": [
        "def df_to_windowed_df(dataframe, first_date_str, last_date_str, n=3):\n",
        "  first_date = str_to_datetime(first_date_str)\n",
        "  last_date  = str_to_datetime(last_date_str)\n",
        "\n",
        "  target_date = first_date\n",
        "  \n",
        "  dates = []\n",
        "  X, Y = [], []\n",
        "\n",
        "  last_time = False\n",
        "  while True:\n",
        "    df_subset = dataframe.loc[:target_date].tail(n+1)\n",
        "    \n",
        "    if len(df_subset) != n+1:\n",
        "      print(f'Error: Window of size {n} is too large for date {target_date}')\n",
        "      return\n",
        "\n",
        "    values = df_subset['Close'].to_numpy()\n",
        "    x, y = values[:-1], values[-1]\n",
        "\n",
        "    dates.append(target_date)\n",
        "    X.append(x)\n",
        "    Y.append(y)\n",
        "\n",
        "    next_week = dataframe.loc[target_date:target_date+datetime.timedelta(days=7)]\n",
        "    next_datetime_str = str(next_week.head(2).tail(1).index.values[0])\n",
        "    next_date_str = next_datetime_str.split('T')[0]\n",
        "    year_month_day = next_date_str.split('-')\n",
        "    year, month, day = year_month_day\n",
        "    next_date = datetime.datetime(day=int(day), month=int(month), year=int(year))\n",
        "    \n",
        "    if last_time:\n",
        "      break\n",
        "    \n",
        "    target_date = next_date\n",
        "\n",
        "    if target_date == last_date:\n",
        "      last_time = True\n",
        "    \n",
        "  ret_df = pd.DataFrame({})\n",
        "  ret_df['Target Date'] = dates\n",
        "  \n",
        "  X = np.array(X)\n",
        "  for i in range(0, n):\n",
        "    X[:, i]\n",
        "    ret_df[f'Target-{n-i}'] = X[:, i]\n",
        "  \n",
        "  ret_df['Target'] = Y\n",
        "\n",
        "  return ret_df\n",
        "\n",
        "# Start day second time around: '2021-03-25'\n",
        "windowed_df = df_to_windowed_df(df, \n",
        "                                '2021-03-25', \n",
        "                                '2022-06-22', \n",
        "                                n=3)\n",
        "windowed_df"
      ],
      "metadata": {
        "colab": {
          "base_uri": "https://localhost:8080/",
          "height": 424
        },
        "id": "H2-k4p5JQ8lF",
        "outputId": "fdd103e4-c0bb-40b2-d288-9d0a27225db3"
      },
      "execution_count": null,
      "outputs": [
        {
          "output_type": "execute_result",
          "data": {
            "text/plain": [
              "    Target Date    Target-3    Target-2    Target-1      Target\n",
              "0    2021-03-25  235.990005  237.580002  235.460007  232.339996\n",
              "1    2021-03-26  237.580002  235.460007  232.339996  236.479996\n",
              "2    2021-03-29  235.460007  232.339996  236.479996  235.240005\n",
              "3    2021-03-30  232.339996  236.479996  235.240005  231.850006\n",
              "4    2021-03-31  236.479996  235.240005  231.850006  235.770004\n",
              "..          ...         ...         ...         ...         ...\n",
              "309  2022-06-15  252.990005  242.259995  244.490005  251.759995\n",
              "310  2022-06-16  242.259995  244.490005  251.759995  244.970001\n",
              "311  2022-06-17  244.490005  251.759995  244.970001  247.649994\n",
              "312  2022-06-21  251.759995  244.970001  247.649994  253.740005\n",
              "313  2022-06-22  244.970001  247.649994  253.740005  253.130005\n",
              "\n",
              "[314 rows x 5 columns]"
            ],
            "text/html": [
              "\n",
              "  <div id=\"df-011d7864-c77d-480d-a19d-84ac8bc5ecf8\">\n",
              "    <div class=\"colab-df-container\">\n",
              "      <div>\n",
              "<style scoped>\n",
              "    .dataframe tbody tr th:only-of-type {\n",
              "        vertical-align: middle;\n",
              "    }\n",
              "\n",
              "    .dataframe tbody tr th {\n",
              "        vertical-align: top;\n",
              "    }\n",
              "\n",
              "    .dataframe thead th {\n",
              "        text-align: right;\n",
              "    }\n",
              "</style>\n",
              "<table border=\"1\" class=\"dataframe\">\n",
              "  <thead>\n",
              "    <tr style=\"text-align: right;\">\n",
              "      <th></th>\n",
              "      <th>Target Date</th>\n",
              "      <th>Target-3</th>\n",
              "      <th>Target-2</th>\n",
              "      <th>Target-1</th>\n",
              "      <th>Target</th>\n",
              "    </tr>\n",
              "  </thead>\n",
              "  <tbody>\n",
              "    <tr>\n",
              "      <th>0</th>\n",
              "      <td>2021-03-25</td>\n",
              "      <td>235.990005</td>\n",
              "      <td>237.580002</td>\n",
              "      <td>235.460007</td>\n",
              "      <td>232.339996</td>\n",
              "    </tr>\n",
              "    <tr>\n",
              "      <th>1</th>\n",
              "      <td>2021-03-26</td>\n",
              "      <td>237.580002</td>\n",
              "      <td>235.460007</td>\n",
              "      <td>232.339996</td>\n",
              "      <td>236.479996</td>\n",
              "    </tr>\n",
              "    <tr>\n",
              "      <th>2</th>\n",
              "      <td>2021-03-29</td>\n",
              "      <td>235.460007</td>\n",
              "      <td>232.339996</td>\n",
              "      <td>236.479996</td>\n",
              "      <td>235.240005</td>\n",
              "    </tr>\n",
              "    <tr>\n",
              "      <th>3</th>\n",
              "      <td>2021-03-30</td>\n",
              "      <td>232.339996</td>\n",
              "      <td>236.479996</td>\n",
              "      <td>235.240005</td>\n",
              "      <td>231.850006</td>\n",
              "    </tr>\n",
              "    <tr>\n",
              "      <th>4</th>\n",
              "      <td>2021-03-31</td>\n",
              "      <td>236.479996</td>\n",
              "      <td>235.240005</td>\n",
              "      <td>231.850006</td>\n",
              "      <td>235.770004</td>\n",
              "    </tr>\n",
              "    <tr>\n",
              "      <th>...</th>\n",
              "      <td>...</td>\n",
              "      <td>...</td>\n",
              "      <td>...</td>\n",
              "      <td>...</td>\n",
              "      <td>...</td>\n",
              "    </tr>\n",
              "    <tr>\n",
              "      <th>309</th>\n",
              "      <td>2022-06-15</td>\n",
              "      <td>252.990005</td>\n",
              "      <td>242.259995</td>\n",
              "      <td>244.490005</td>\n",
              "      <td>251.759995</td>\n",
              "    </tr>\n",
              "    <tr>\n",
              "      <th>310</th>\n",
              "      <td>2022-06-16</td>\n",
              "      <td>242.259995</td>\n",
              "      <td>244.490005</td>\n",
              "      <td>251.759995</td>\n",
              "      <td>244.970001</td>\n",
              "    </tr>\n",
              "    <tr>\n",
              "      <th>311</th>\n",
              "      <td>2022-06-17</td>\n",
              "      <td>244.490005</td>\n",
              "      <td>251.759995</td>\n",
              "      <td>244.970001</td>\n",
              "      <td>247.649994</td>\n",
              "    </tr>\n",
              "    <tr>\n",
              "      <th>312</th>\n",
              "      <td>2022-06-21</td>\n",
              "      <td>251.759995</td>\n",
              "      <td>244.970001</td>\n",
              "      <td>247.649994</td>\n",
              "      <td>253.740005</td>\n",
              "    </tr>\n",
              "    <tr>\n",
              "      <th>313</th>\n",
              "      <td>2022-06-22</td>\n",
              "      <td>244.970001</td>\n",
              "      <td>247.649994</td>\n",
              "      <td>253.740005</td>\n",
              "      <td>253.130005</td>\n",
              "    </tr>\n",
              "  </tbody>\n",
              "</table>\n",
              "<p>314 rows × 5 columns</p>\n",
              "</div>\n",
              "      <button class=\"colab-df-convert\" onclick=\"convertToInteractive('df-011d7864-c77d-480d-a19d-84ac8bc5ecf8')\"\n",
              "              title=\"Convert this dataframe to an interactive table.\"\n",
              "              style=\"display:none;\">\n",
              "        \n",
              "  <svg xmlns=\"http://www.w3.org/2000/svg\" height=\"24px\"viewBox=\"0 0 24 24\"\n",
              "       width=\"24px\">\n",
              "    <path d=\"M0 0h24v24H0V0z\" fill=\"none\"/>\n",
              "    <path d=\"M18.56 5.44l.94 2.06.94-2.06 2.06-.94-2.06-.94-.94-2.06-.94 2.06-2.06.94zm-11 1L8.5 8.5l.94-2.06 2.06-.94-2.06-.94L8.5 2.5l-.94 2.06-2.06.94zm10 10l.94 2.06.94-2.06 2.06-.94-2.06-.94-.94-2.06-.94 2.06-2.06.94z\"/><path d=\"M17.41 7.96l-1.37-1.37c-.4-.4-.92-.59-1.43-.59-.52 0-1.04.2-1.43.59L10.3 9.45l-7.72 7.72c-.78.78-.78 2.05 0 2.83L4 21.41c.39.39.9.59 1.41.59.51 0 1.02-.2 1.41-.59l7.78-7.78 2.81-2.81c.8-.78.8-2.07 0-2.86zM5.41 20L4 18.59l7.72-7.72 1.47 1.35L5.41 20z\"/>\n",
              "  </svg>\n",
              "      </button>\n",
              "      \n",
              "  <style>\n",
              "    .colab-df-container {\n",
              "      display:flex;\n",
              "      flex-wrap:wrap;\n",
              "      gap: 12px;\n",
              "    }\n",
              "\n",
              "    .colab-df-convert {\n",
              "      background-color: #E8F0FE;\n",
              "      border: none;\n",
              "      border-radius: 50%;\n",
              "      cursor: pointer;\n",
              "      display: none;\n",
              "      fill: #1967D2;\n",
              "      height: 32px;\n",
              "      padding: 0 0 0 0;\n",
              "      width: 32px;\n",
              "    }\n",
              "\n",
              "    .colab-df-convert:hover {\n",
              "      background-color: #E2EBFA;\n",
              "      box-shadow: 0px 1px 2px rgba(60, 64, 67, 0.3), 0px 1px 3px 1px rgba(60, 64, 67, 0.15);\n",
              "      fill: #174EA6;\n",
              "    }\n",
              "\n",
              "    [theme=dark] .colab-df-convert {\n",
              "      background-color: #3B4455;\n",
              "      fill: #D2E3FC;\n",
              "    }\n",
              "\n",
              "    [theme=dark] .colab-df-convert:hover {\n",
              "      background-color: #434B5C;\n",
              "      box-shadow: 0px 1px 3px 1px rgba(0, 0, 0, 0.15);\n",
              "      filter: drop-shadow(0px 1px 2px rgba(0, 0, 0, 0.3));\n",
              "      fill: #FFFFFF;\n",
              "    }\n",
              "  </style>\n",
              "\n",
              "      <script>\n",
              "        const buttonEl =\n",
              "          document.querySelector('#df-011d7864-c77d-480d-a19d-84ac8bc5ecf8 button.colab-df-convert');\n",
              "        buttonEl.style.display =\n",
              "          google.colab.kernel.accessAllowed ? 'block' : 'none';\n",
              "\n",
              "        async function convertToInteractive(key) {\n",
              "          const element = document.querySelector('#df-011d7864-c77d-480d-a19d-84ac8bc5ecf8');\n",
              "          const dataTable =\n",
              "            await google.colab.kernel.invokeFunction('convertToInteractive',\n",
              "                                                     [key], {});\n",
              "          if (!dataTable) return;\n",
              "\n",
              "          const docLinkHtml = 'Like what you see? Visit the ' +\n",
              "            '<a target=\"_blank\" href=https://colab.research.google.com/notebooks/data_table.ipynb>data table notebook</a>'\n",
              "            + ' to learn more about interactive tables.';\n",
              "          element.innerHTML = '';\n",
              "          dataTable['output_type'] = 'display_data';\n",
              "          await google.colab.output.renderOutput(dataTable, element);\n",
              "          const docLink = document.createElement('div');\n",
              "          docLink.innerHTML = docLinkHtml;\n",
              "          element.appendChild(docLink);\n",
              "        }\n",
              "      </script>\n",
              "    </div>\n",
              "  </div>\n",
              "  "
            ]
          },
          "metadata": {},
          "execution_count": 44
        }
      ]
    },
    {
      "cell_type": "code",
      "source": [
        "def windowed_df_to_date_X_y(windowed_df):\n",
        "  df_as_np = windowed_df.to_numpy()\n",
        "  dates = df_as_np[:,0]\n",
        "  middle_matrix = df_as_np[:,1:-1]\n",
        "  X = middle_matrix.reshape((len(dates),middle_matrix.shape[1],1))\n",
        "  y = df_as_np[:,-1]\n",
        "  return dates,X.astype(np.float32),y.astype(np.float32)"
      ],
      "metadata": {
        "id": "5EhYcNO4SrHb"
      },
      "execution_count": null,
      "outputs": []
    },
    {
      "cell_type": "code",
      "source": [
        "dates,X,y = windowed_df_to_date_X_y(windowed_df)"
      ],
      "metadata": {
        "id": "zwBknhPJTozu"
      },
      "execution_count": null,
      "outputs": []
    },
    {
      "cell_type": "code",
      "source": [
        "dates.shape,X.shape,y.shape"
      ],
      "metadata": {
        "colab": {
          "base_uri": "https://localhost:8080/"
        },
        "id": "Gc8mrPmcT0WG",
        "outputId": "b058bc92-40ea-4f7d-fa93-2f4bacc1063a"
      },
      "execution_count": null,
      "outputs": [
        {
          "output_type": "execute_result",
          "data": {
            "text/plain": [
              "((314,), (314, 3, 1), (314,))"
            ]
          },
          "metadata": {},
          "execution_count": 47
        }
      ]
    },
    {
      "cell_type": "markdown",
      "source": [
        "#Splitting the data into Train,Val and Test"
      ],
      "metadata": {
        "id": "zKyu93yoT7lH"
      }
    },
    {
      "cell_type": "code",
      "source": [
        "q_80 = int(len(dates)*0.8) #80% of the data\n",
        "q_90 = int(len(dates)*0.9) #90% of the data\n",
        "\n",
        "dates_train,X_train,y_train = dates[:q_80],X[:q_80],y[:q_80] \n",
        "dates_val,X_val,y_val = dates[q_80:q_90],X[q_80:q_90],y[q_80:q_90]\n",
        "dates_test,X_test,y_test = dates[q_90:],X[q_90:],y[q_90:] "
      ],
      "metadata": {
        "id": "HT5cJDC3T_FL"
      },
      "execution_count": null,
      "outputs": []
    },
    {
      "cell_type": "code",
      "source": [
        "plt.plot(dates_train,y_train)\n",
        "plt.plot(dates_val,y_val)\n",
        "plt.plot(dates_test,y_test)\n",
        "plt.legend(['train','val','test'])\n",
        "plt.title('Split of the data')\n",
        "plt.xlabel('Time')\n",
        "plt.ylabel('Closing Value')"
      ],
      "metadata": {
        "colab": {
          "base_uri": "https://localhost:8080/",
          "height": 312
        },
        "id": "WeeN57VBUzXL",
        "outputId": "700769e2-cec5-4703-fd09-ae1aedd81a7d"
      },
      "execution_count": null,
      "outputs": [
        {
          "output_type": "execute_result",
          "data": {
            "text/plain": [
              "Text(0, 0.5, 'Closing Value')"
            ]
          },
          "metadata": {},
          "execution_count": 49
        },
        {
          "output_type": "display_data",
          "data": {
            "text/plain": [
              "<Figure size 432x288 with 1 Axes>"
            ],
            "image/png": "[encoded data removed]"
          },
          "metadata": {
            "needs_background": "light"
          }
        }
      ]
    },
    {
      "cell_type": "markdown",
      "source": [
        "#Defining the sequential LSTM model to be used"
      ],
      "metadata": {
        "id": "Hh5UUii-VoNB"
      }
    },
    {
      "cell_type": "code",
      "source": [
        "model = Sequential([layers.Input((3,1)),\n",
        "                    layers.LSTM(64),\n",
        "                    layers.Dense(64,activation='relu'),\n",
        "                    layers.Dense(64,activation='relu'),\n",
        "                    layers.Dense(1,activation='linear')])\n",
        "\n",
        "model.compile(loss='mse',optimizer = Adam(learning_rate=0.001),metrics = ['mean_absolute_error'])"
      ],
      "metadata": {
        "id": "0-15y2qeVrlQ"
      },
      "execution_count": null,
      "outputs": []
    },
    {
      "cell_type": "code",
      "source": [
        "model.summary()"
      ],
      "metadata": {
        "colab": {
          "base_uri": "https://localhost:8080/"
        },
        "id": "28tGMhyTX-mW",
        "outputId": "dc64e844-03b4-403c-b67b-d6c95e0f24e2"
      },
      "execution_count": null,
      "outputs": [
        {
          "output_type": "stream",
          "name": "stdout",
          "text": [
            "Model: \"sequential_2\"\n",
            "_________________________________________________________________\n",
            " Layer (type)                Output Shape              Param #   \n",
            "=================================================================\n",
            " lstm_2 (LSTM)               (None, 64)                16896     \n",
            "                                                                 \n",
            " dense_6 (Dense)             (None, 64)                4160      \n",
            "                                                                 \n",
            " dense_7 (Dense)             (None, 64)                4160      \n",
            "                                                                 \n",
            " dense_8 (Dense)             (None, 1)                 65        \n",
            "                                                                 \n",
            "=================================================================\n",
            "Total params: 25,281\n",
            "Trainable params: 25,281\n",
            "Non-trainable params: 0\n",
            "_________________________________________________________________\n"
          ]
        }
      ]
    },
    {
      "cell_type": "code",
      "source": [
        "history = model.fit(X_train,y_train,validation_data = (X_val,y_val),epochs = 100)"
      ],
      "metadata": {
        "colab": {
          "base_uri": "https://localhost:8080/"
        },
        "id": "RM8Iom1TWPPc",
        "outputId": "7343f185-cf22-4b86-d4ee-62b36881d688"
      },
      "execution_count": null,
      "outputs": [
        {
          "output_type": "stream",
          "name": "stdout",
          "text": [
            "Epoch 1/100\n",
            "8/8 [==============================] - 3s 77ms/step - loss: 85286.5078 - mean_absolute_error: 290.5950 - val_loss: 85105.2031 - val_mean_absolute_error: 291.4196\n",
            "Epoch 2/100\n",
            "8/8 [==============================] - 0s 8ms/step - loss: 84734.3594 - mean_absolute_error: 289.6435 - val_loss: 84536.9062 - val_mean_absolute_error: 290.4429\n",
            "Epoch 3/100\n",
            "8/8 [==============================] - 0s 8ms/step - loss: 84088.6875 - mean_absolute_error: 288.5277 - val_loss: 83789.6953 - val_mean_absolute_error: 289.1539\n",
            "Epoch 4/100\n",
            "8/8 [==============================] - 0s 8ms/step - loss: 83270.2969 - mean_absolute_error: 287.1015 - val_loss: 82829.0625 - val_mean_absolute_error: 287.4875\n",
            "Epoch 5/100\n",
            "8/8 [==============================] - 0s 7ms/step - loss: 82080.9609 - mean_absolute_error: 285.0280 - val_loss: 81184.5547 - val_mean_absolute_error: 284.6127\n",
            "Epoch 6/100\n",
            "8/8 [==============================] - 0s 8ms/step - loss: 80129.9766 - mean_absolute_error: 281.5739 - val_loss: 78867.0156 - val_mean_absolute_error: 280.5116\n",
            "Epoch 7/100\n",
            "8/8 [==============================] - 0s 8ms/step - loss: 77380.2109 - mean_absolute_error: 276.6472 - val_loss: 75418.7734 - val_mean_absolute_error: 274.2969\n",
            "Epoch 8/100\n",
            "8/8 [==============================] - 0s 8ms/step - loss: 73514.9531 - mean_absolute_error: 269.5560 - val_loss: 70933.4062 - val_mean_absolute_error: 265.9942\n",
            "Epoch 9/100\n",
            "8/8 [==============================] - 0s 8ms/step - loss: 68271.5859 - mean_absolute_error: 259.6158 - val_loss: 64574.0469 - val_mean_absolute_error: 253.7599\n",
            "Epoch 10/100\n",
            "8/8 [==============================] - 0s 9ms/step - loss: 61479.0703 - mean_absolute_error: 246.2814 - val_loss: 57214.4141 - val_mean_absolute_error: 238.8182\n",
            "Epoch 11/100\n",
            "8/8 [==============================] - 0s 8ms/step - loss: 53539.8477 - mean_absolute_error: 229.5742 - val_loss: 48393.6328 - val_mean_absolute_error: 219.5759\n",
            "Epoch 12/100\n",
            "8/8 [==============================] - 0s 9ms/step - loss: 44539.3516 - mean_absolute_error: 208.9331 - val_loss: 39111.3359 - val_mean_absolute_error: 197.3094\n",
            "Epoch 13/100\n",
            "8/8 [==============================] - 0s 8ms/step - loss: 34938.1367 - mean_absolute_error: 184.4491 - val_loss: 28749.7344 - val_mean_absolute_error: 169.0205\n",
            "Epoch 14/100\n",
            "8/8 [==============================] - 0s 10ms/step - loss: 24605.5293 - mean_absolute_error: 153.8131 - val_loss: 18826.2090 - val_mean_absolute_error: 136.5516\n",
            "Epoch 15/100\n",
            "8/8 [==============================] - 0s 8ms/step - loss: 15596.6797 - mean_absolute_error: 121.2676 - val_loss: 10974.3877 - val_mean_absolute_error: 103.8973\n",
            "Epoch 16/100\n",
            "8/8 [==============================] - 0s 8ms/step - loss: 8753.9375 - mean_absolute_error: 88.3159 - val_loss: 5220.8296 - val_mean_absolute_error: 71.0007\n",
            "Epoch 17/100\n",
            "8/8 [==============================] - 0s 8ms/step - loss: 4093.0486 - mean_absolute_error: 56.7645 - val_loss: 1867.1140 - val_mean_absolute_error: 41.0753\n",
            "Epoch 18/100\n",
            "8/8 [==============================] - 0s 8ms/step - loss: 1694.4294 - mean_absolute_error: 34.4625 - val_loss: 406.9182 - val_mean_absolute_error: 15.7360\n",
            "Epoch 19/100\n",
            "8/8 [==============================] - 0s 9ms/step - loss: 893.6435 - mean_absolute_error: 24.7273 - val_loss: 182.1878 - val_mean_absolute_error: 12.3205\n",
            "Epoch 20/100\n",
            "8/8 [==============================] - 0s 9ms/step - loss: 887.3105 - mean_absolute_error: 23.9429 - val_loss: 236.3102 - val_mean_absolute_error: 13.5319\n",
            "Epoch 21/100\n",
            "8/8 [==============================] - 0s 8ms/step - loss: 921.6697 - mean_absolute_error: 24.1498 - val_loss: 224.4043 - val_mean_absolute_error: 13.2832\n",
            "Epoch 22/100\n",
            "8/8 [==============================] - 0s 8ms/step - loss: 884.3485 - mean_absolute_error: 23.7329 - val_loss: 190.8729 - val_mean_absolute_error: 12.6052\n",
            "Epoch 23/100\n",
            "8/8 [==============================] - 0s 8ms/step - loss: 854.7770 - mean_absolute_error: 23.5302 - val_loss: 179.7343 - val_mean_absolute_error: 12.0458\n",
            "Epoch 24/100\n",
            "8/8 [==============================] - 0s 8ms/step - loss: 838.4960 - mean_absolute_error: 23.5140 - val_loss: 182.3623 - val_mean_absolute_error: 11.8041\n",
            "Epoch 25/100\n",
            "8/8 [==============================] - 0s 9ms/step - loss: 840.6785 - mean_absolute_error: 23.6268 - val_loss: 186.3103 - val_mean_absolute_error: 11.6600\n",
            "Epoch 26/100\n",
            "8/8 [==============================] - 0s 8ms/step - loss: 841.8304 - mean_absolute_error: 23.6669 - val_loss: 185.1377 - val_mean_absolute_error: 11.6907\n",
            "Epoch 27/100\n",
            "8/8 [==============================] - 0s 8ms/step - loss: 842.0811 - mean_absolute_error: 23.6542 - val_loss: 183.9550 - val_mean_absolute_error: 11.7340\n",
            "Epoch 28/100\n",
            "8/8 [==============================] - 0s 8ms/step - loss: 840.2205 - mean_absolute_error: 23.6101 - val_loss: 182.7719 - val_mean_absolute_error: 11.7839\n",
            "Epoch 29/100\n",
            "8/8 [==============================] - 0s 9ms/step - loss: 840.1991 - mean_absolute_error: 23.5917 - val_loss: 181.7487 - val_mean_absolute_error: 11.8357\n",
            "Epoch 30/100\n",
            "8/8 [==============================] - 0s 8ms/step - loss: 839.9542 - mean_absolute_error: 23.5801 - val_loss: 181.6873 - val_mean_absolute_error: 11.8389\n",
            "Epoch 31/100\n",
            "8/8 [==============================] - 0s 8ms/step - loss: 840.1944 - mean_absolute_error: 23.5815 - val_loss: 181.2547 - val_mean_absolute_error: 11.8649\n",
            "Epoch 32/100\n",
            "8/8 [==============================] - 0s 8ms/step - loss: 840.1998 - mean_absolute_error: 23.5647 - val_loss: 181.1480 - val_mean_absolute_error: 11.8714\n",
            "Epoch 33/100\n",
            "8/8 [==============================] - 0s 8ms/step - loss: 840.5508 - mean_absolute_error: 23.5781 - val_loss: 181.6734 - val_mean_absolute_error: 11.7711\n",
            "Epoch 34/100\n",
            "8/8 [==============================] - 0s 8ms/step - loss: 769.5218 - mean_absolute_error: 22.7270 - val_loss: 173.1035 - val_mean_absolute_error: 10.7567\n",
            "Epoch 35/100\n",
            "8/8 [==============================] - 0s 8ms/step - loss: 706.2875 - mean_absolute_error: 21.8307 - val_loss: 209.7899 - val_mean_absolute_error: 11.0772\n",
            "Epoch 36/100\n",
            "8/8 [==============================] - 0s 8ms/step - loss: 703.5714 - mean_absolute_error: 21.7943 - val_loss: 171.2025 - val_mean_absolute_error: 10.5251\n",
            "Epoch 37/100\n",
            "8/8 [==============================] - 0s 9ms/step - loss: 679.2487 - mean_absolute_error: 21.1965 - val_loss: 153.1629 - val_mean_absolute_error: 10.3134\n",
            "Epoch 38/100\n",
            "8/8 [==============================] - 0s 8ms/step - loss: 666.8215 - mean_absolute_error: 20.9730 - val_loss: 173.2787 - val_mean_absolute_error: 10.3487\n",
            "Epoch 39/100\n",
            "8/8 [==============================] - 0s 9ms/step - loss: 622.5360 - mean_absolute_error: 20.2536 - val_loss: 151.3825 - val_mean_absolute_error: 9.9952\n",
            "Epoch 40/100\n",
            "8/8 [==============================] - 0s 8ms/step - loss: 594.1187 - mean_absolute_error: 19.9063 - val_loss: 137.5062 - val_mean_absolute_error: 9.6842\n",
            "Epoch 41/100\n",
            "8/8 [==============================] - 0s 8ms/step - loss: 534.9675 - mean_absolute_error: 18.8862 - val_loss: 131.4600 - val_mean_absolute_error: 10.1128\n",
            "Epoch 42/100\n",
            "8/8 [==============================] - 0s 9ms/step - loss: 529.3837 - mean_absolute_error: 18.4930 - val_loss: 112.1213 - val_mean_absolute_error: 9.1424\n",
            "Epoch 43/100\n",
            "8/8 [==============================] - 0s 8ms/step - loss: 475.3861 - mean_absolute_error: 17.7727 - val_loss: 131.0616 - val_mean_absolute_error: 9.2532\n",
            "Epoch 44/100\n",
            "8/8 [==============================] - 0s 8ms/step - loss: 402.1796 - mean_absolute_error: 16.3274 - val_loss: 116.0234 - val_mean_absolute_error: 8.7571\n",
            "Epoch 45/100\n",
            "8/8 [==============================] - 0s 9ms/step - loss: 336.2188 - mean_absolute_error: 14.8806 - val_loss: 82.7120 - val_mean_absolute_error: 7.6109\n",
            "Epoch 46/100\n",
            "8/8 [==============================] - 0s 8ms/step - loss: 274.4253 - mean_absolute_error: 13.2055 - val_loss: 84.2463 - val_mean_absolute_error: 7.6837\n",
            "Epoch 47/100\n",
            "8/8 [==============================] - 0s 8ms/step - loss: 216.2337 - mean_absolute_error: 11.6703 - val_loss: 63.2607 - val_mean_absolute_error: 6.6806\n",
            "Epoch 48/100\n",
            "8/8 [==============================] - 0s 8ms/step - loss: 170.8015 - mean_absolute_error: 10.2805 - val_loss: 55.4316 - val_mean_absolute_error: 6.2709\n",
            "Epoch 49/100\n",
            "8/8 [==============================] - 0s 8ms/step - loss: 130.4929 - mean_absolute_error: 8.8416 - val_loss: 72.4404 - val_mean_absolute_error: 6.7490\n",
            "Epoch 50/100\n",
            "8/8 [==============================] - 0s 8ms/step - loss: 107.7130 - mean_absolute_error: 7.9658 - val_loss: 46.7996 - val_mean_absolute_error: 5.9061\n",
            "Epoch 51/100\n",
            "8/8 [==============================] - 0s 8ms/step - loss: 89.3024 - mean_absolute_error: 7.4253 - val_loss: 53.2503 - val_mean_absolute_error: 6.3703\n",
            "Epoch 52/100\n",
            "8/8 [==============================] - 0s 8ms/step - loss: 72.9248 - mean_absolute_error: 6.5802 - val_loss: 65.4885 - val_mean_absolute_error: 6.3782\n",
            "Epoch 53/100\n",
            "8/8 [==============================] - 0s 9ms/step - loss: 55.1838 - mean_absolute_error: 5.7192 - val_loss: 50.4867 - val_mean_absolute_error: 6.0735\n",
            "Epoch 54/100\n",
            "8/8 [==============================] - 0s 7ms/step - loss: 60.3096 - mean_absolute_error: 6.3201 - val_loss: 134.5793 - val_mean_absolute_error: 9.6602\n",
            "Epoch 55/100\n",
            "8/8 [==============================] - 0s 8ms/step - loss: 57.1940 - mean_absolute_error: 6.0533 - val_loss: 42.9546 - val_mean_absolute_error: 5.5956\n",
            "Epoch 56/100\n",
            "8/8 [==============================] - 0s 8ms/step - loss: 40.8976 - mean_absolute_error: 4.9916 - val_loss: 84.4337 - val_mean_absolute_error: 7.4622\n",
            "Epoch 57/100\n",
            "8/8 [==============================] - 0s 8ms/step - loss: 46.0740 - mean_absolute_error: 5.4793 - val_loss: 48.0129 - val_mean_absolute_error: 5.8399\n",
            "Epoch 58/100\n",
            "8/8 [==============================] - 0s 8ms/step - loss: 47.7622 - mean_absolute_error: 5.4455 - val_loss: 103.8190 - val_mean_absolute_error: 8.3192\n",
            "Epoch 59/100\n",
            "8/8 [==============================] - 0s 8ms/step - loss: 58.6934 - mean_absolute_error: 6.3100 - val_loss: 56.0103 - val_mean_absolute_error: 6.2406\n",
            "Epoch 60/100\n",
            "8/8 [==============================] - 0s 8ms/step - loss: 60.6400 - mean_absolute_error: 6.4952 - val_loss: 100.8097 - val_mean_absolute_error: 8.1969\n",
            "Epoch 61/100\n",
            "8/8 [==============================] - 0s 9ms/step - loss: 38.4545 - mean_absolute_error: 4.9717 - val_loss: 44.7954 - val_mean_absolute_error: 5.6297\n",
            "Epoch 62/100\n",
            "8/8 [==============================] - 0s 8ms/step - loss: 34.8340 - mean_absolute_error: 4.6469 - val_loss: 48.8576 - val_mean_absolute_error: 5.7466\n",
            "Epoch 63/100\n",
            "8/8 [==============================] - 0s 8ms/step - loss: 29.5019 - mean_absolute_error: 4.2351 - val_loss: 55.5773 - val_mean_absolute_error: 6.0383\n",
            "Epoch 64/100\n",
            "8/8 [==============================] - 0s 9ms/step - loss: 28.4204 - mean_absolute_error: 4.0968 - val_loss: 55.2469 - val_mean_absolute_error: 6.0625\n",
            "Epoch 65/100\n",
            "8/8 [==============================] - 0s 8ms/step - loss: 32.7204 - mean_absolute_error: 4.4088 - val_loss: 45.8339 - val_mean_absolute_error: 5.6637\n",
            "Epoch 66/100\n",
            "8/8 [==============================] - 0s 8ms/step - loss: 30.8567 - mean_absolute_error: 4.3611 - val_loss: 67.2642 - val_mean_absolute_error: 6.6056\n",
            "Epoch 67/100\n",
            "8/8 [==============================] - 0s 8ms/step - loss: 31.0791 - mean_absolute_error: 4.4188 - val_loss: 43.0809 - val_mean_absolute_error: 5.5485\n",
            "Epoch 68/100\n",
            "8/8 [==============================] - 0s 8ms/step - loss: 29.5573 - mean_absolute_error: 4.2313 - val_loss: 52.3252 - val_mean_absolute_error: 6.0245\n",
            "Epoch 69/100\n",
            "8/8 [==============================] - 0s 8ms/step - loss: 40.4184 - mean_absolute_error: 5.0958 - val_loss: 76.2556 - val_mean_absolute_error: 7.0451\n",
            "Epoch 70/100\n",
            "8/8 [==============================] - 0s 8ms/step - loss: 42.7613 - mean_absolute_error: 5.3434 - val_loss: 45.7683 - val_mean_absolute_error: 5.6604\n",
            "Epoch 71/100\n",
            "8/8 [==============================] - 0s 8ms/step - loss: 26.2774 - mean_absolute_error: 4.0212 - val_loss: 43.6538 - val_mean_absolute_error: 5.5466\n",
            "Epoch 72/100\n",
            "8/8 [==============================] - 0s 8ms/step - loss: 28.7467 - mean_absolute_error: 4.2767 - val_loss: 68.3192 - val_mean_absolute_error: 6.6799\n",
            "Epoch 73/100\n",
            "8/8 [==============================] - 0s 8ms/step - loss: 27.6607 - mean_absolute_error: 4.1273 - val_loss: 51.0103 - val_mean_absolute_error: 5.8899\n",
            "Epoch 74/100\n",
            "8/8 [==============================] - 0s 8ms/step - loss: 28.3746 - mean_absolute_error: 4.2545 - val_loss: 44.3575 - val_mean_absolute_error: 5.5816\n",
            "Epoch 75/100\n",
            "8/8 [==============================] - 0s 9ms/step - loss: 24.6738 - mean_absolute_error: 3.8975 - val_loss: 42.9188 - val_mean_absolute_error: 5.5293\n",
            "Epoch 76/100\n",
            "8/8 [==============================] - 0s 9ms/step - loss: 27.4233 - mean_absolute_error: 4.1061 - val_loss: 51.6317 - val_mean_absolute_error: 5.9421\n",
            "Epoch 77/100\n",
            "8/8 [==============================] - 0s 8ms/step - loss: 23.6489 - mean_absolute_error: 3.8498 - val_loss: 59.9772 - val_mean_absolute_error: 6.3139\n",
            "Epoch 78/100\n",
            "8/8 [==============================] - 0s 9ms/step - loss: 30.5818 - mean_absolute_error: 4.3244 - val_loss: 43.5691 - val_mean_absolute_error: 5.5484\n",
            "Epoch 79/100\n",
            "8/8 [==============================] - 0s 8ms/step - loss: 32.1784 - mean_absolute_error: 4.5494 - val_loss: 48.3296 - val_mean_absolute_error: 5.8883\n",
            "Epoch 80/100\n",
            "8/8 [==============================] - 0s 10ms/step - loss: 48.5525 - mean_absolute_error: 5.6897 - val_loss: 121.3607 - val_mean_absolute_error: 9.2254\n",
            "Epoch 81/100\n",
            "8/8 [==============================] - 0s 8ms/step - loss: 41.6546 - mean_absolute_error: 5.1954 - val_loss: 45.0775 - val_mean_absolute_error: 5.6135\n",
            "Epoch 82/100\n",
            "8/8 [==============================] - 0s 7ms/step - loss: 31.9577 - mean_absolute_error: 4.5904 - val_loss: 43.1223 - val_mean_absolute_error: 5.5615\n",
            "Epoch 83/100\n",
            "8/8 [==============================] - 0s 9ms/step - loss: 30.5975 - mean_absolute_error: 4.3065 - val_loss: 67.0335 - val_mean_absolute_error: 6.6288\n",
            "Epoch 84/100\n",
            "8/8 [==============================] - 0s 8ms/step - loss: 27.6676 - mean_absolute_error: 4.1430 - val_loss: 89.1223 - val_mean_absolute_error: 7.6296\n",
            "Epoch 85/100\n",
            "8/8 [==============================] - 0s 8ms/step - loss: 31.9593 - mean_absolute_error: 4.5071 - val_loss: 47.9357 - val_mean_absolute_error: 5.7682\n",
            "Epoch 86/100\n",
            "8/8 [==============================] - 0s 8ms/step - loss: 31.5198 - mean_absolute_error: 4.5631 - val_loss: 43.7609 - val_mean_absolute_error: 5.5475\n",
            "Epoch 87/100\n",
            "8/8 [==============================] - 0s 9ms/step - loss: 35.9379 - mean_absolute_error: 4.8256 - val_loss: 67.7871 - val_mean_absolute_error: 6.6996\n",
            "Epoch 88/100\n",
            "8/8 [==============================] - 0s 9ms/step - loss: 31.2970 - mean_absolute_error: 4.3552 - val_loss: 78.6150 - val_mean_absolute_error: 7.1455\n",
            "Epoch 89/100\n",
            "8/8 [==============================] - 0s 8ms/step - loss: 29.1663 - mean_absolute_error: 4.2408 - val_loss: 42.9307 - val_mean_absolute_error: 5.5254\n",
            "Epoch 90/100\n",
            "8/8 [==============================] - 0s 8ms/step - loss: 26.0913 - mean_absolute_error: 4.0367 - val_loss: 43.8446 - val_mean_absolute_error: 5.6100\n",
            "Epoch 91/100\n",
            "8/8 [==============================] - 0s 9ms/step - loss: 22.7682 - mean_absolute_error: 3.6928 - val_loss: 42.9197 - val_mean_absolute_error: 5.5455\n",
            "Epoch 92/100\n",
            "8/8 [==============================] - 0s 9ms/step - loss: 26.2769 - mean_absolute_error: 4.0749 - val_loss: 43.0191 - val_mean_absolute_error: 5.5434\n",
            "Epoch 93/100\n",
            "8/8 [==============================] - 0s 10ms/step - loss: 31.0977 - mean_absolute_error: 4.3658 - val_loss: 55.7045 - val_mean_absolute_error: 6.1209\n",
            "Epoch 94/100\n",
            "8/8 [==============================] - 0s 8ms/step - loss: 26.5560 - mean_absolute_error: 4.0312 - val_loss: 46.3023 - val_mean_absolute_error: 5.6575\n",
            "Epoch 95/100\n",
            "8/8 [==============================] - 0s 9ms/step - loss: 29.9778 - mean_absolute_error: 4.2996 - val_loss: 56.0909 - val_mean_absolute_error: 6.1398\n",
            "Epoch 96/100\n",
            "8/8 [==============================] - 0s 9ms/step - loss: 24.4158 - mean_absolute_error: 3.8660 - val_loss: 69.2486 - val_mean_absolute_error: 6.7264\n",
            "Epoch 97/100\n",
            "8/8 [==============================] - 0s 9ms/step - loss: 25.4564 - mean_absolute_error: 3.8274 - val_loss: 59.6672 - val_mean_absolute_error: 6.3350\n",
            "Epoch 98/100\n",
            "8/8 [==============================] - 0s 8ms/step - loss: 23.9587 - mean_absolute_error: 3.7791 - val_loss: 46.8432 - val_mean_absolute_error: 5.7399\n",
            "Epoch 99/100\n",
            "8/8 [==============================] - 0s 8ms/step - loss: 25.0959 - mean_absolute_error: 3.8858 - val_loss: 43.4060 - val_mean_absolute_error: 5.5411\n",
            "Epoch 100/100\n",
            "8/8 [==============================] - 0s 8ms/step - loss: 27.0926 - mean_absolute_error: 4.0048 - val_loss: 42.6177 - val_mean_absolute_error: 5.5257\n"
          ]
        }
      ]
    },
    {
      "cell_type": "markdown",
      "source": [
        "#Assessing the model performance"
      ],
      "metadata": {
        "id": "cUzMYQ8OXa-3"
      }
    },
    {
      "cell_type": "markdown",
      "source": [
        "##Training data"
      ],
      "metadata": {
        "id": "bcmAHlc7YF4d"
      }
    },
    {
      "cell_type": "code",
      "source": [
        "train_predictions = model.predict(X_train).flatten()\n",
        "plt.plot(dates_train,train_predictions)\n",
        "plt.plot(dates_train,y_train)\n",
        "plt.legend(['Predicted','Actual'])\n",
        "plt.title('Model Performance on Training Data')\n",
        "plt.xlabel('Time')\n",
        "plt.ylabel('Closing Value')"
      ],
      "metadata": {
        "colab": {
          "base_uri": "https://localhost:8080/",
          "height": 312
        },
        "id": "h64V2Vl0XSSe",
        "outputId": "4bc06df9-069f-4838-ef28-3679232bcbd9"
      },
      "execution_count": null,
      "outputs": [
        {
          "output_type": "execute_result",
          "data": {
            "text/plain": [
              "Text(0, 0.5, 'Closing Value')"
            ]
          },
          "metadata": {},
          "execution_count": 53
        },
        {
          "output_type": "display_data",
          "data": {
            "text/plain": [
              "<Figure size 432x288 with 1 Axes>"
            ],
            "image/png": "[encoded data removed]"
          },
          "metadata": {
            "needs_background": "light"
          }
        }
      ]
    },
    {
      "cell_type": "markdown",
      "source": [
        "##Validation Data"
      ],
      "metadata": {
        "id": "M3k0FkIBYTgH"
      }
    },
    {
      "cell_type": "code",
      "source": [
        "val_predictions = model.predict(X_val).flatten()\n",
        "plt.plot(dates_val,val_predictions)\n",
        "plt.plot(dates_val,y_val)\n",
        "plt.legend(['Predicted','Actual'])\n",
        "plt.title('Model Performance on Validation Data')\n",
        "plt.xlabel('Time')\n",
        "plt.ylabel('Closing Value')"
      ],
      "metadata": {
        "id": "7foxz0POYC2y",
        "colab": {
          "base_uri": "https://localhost:8080/",
          "height": 312
        },
        "outputId": "d637000c-bfd3-449d-a194-b1f1274501c1"
      },
      "execution_count": null,
      "outputs": [
        {
          "output_type": "execute_result",
          "data": {
            "text/plain": [
              "Text(0, 0.5, 'Closing Value')"
            ]
          },
          "metadata": {},
          "execution_count": 54
        },
        {
          "output_type": "display_data",
          "data": {
            "text/plain": [
              "<Figure size 432x288 with 1 Axes>"
            ],
            "image/png": "[encoded data removed]"
          },
          "metadata": {
            "needs_background": "light"
          }
        }
      ]
    },
    {
      "cell_type": "markdown",
      "source": [
        "##Test data"
      ],
      "metadata": {
        "id": "w30QvvdUYry0"
      }
    },
    {
      "cell_type": "code",
      "source": [
        "test_predictions = model.predict(X_test).flatten()\n",
        "plt.plot(dates_test,test_predictions)\n",
        "plt.plot(dates_test,y_test)\n",
        "plt.legend(['Predicted','Actual'])\n",
        "plt.title('Model Performance on Test Data')\n",
        "plt.xlabel('Time')\n",
        "plt.ylabel('Closing Value')"
      ],
      "metadata": {
        "colab": {
          "base_uri": "https://localhost:8080/",
          "height": 312
        },
        "id": "P-ObFbrVYvbT",
        "outputId": "80a8edb9-7a2e-423b-bb28-fa991fdce7b1"
      },
      "execution_count": null,
      "outputs": [
        {
          "output_type": "execute_result",
          "data": {
            "text/plain": [
              "Text(0, 0.5, 'Closing Value')"
            ]
          },
          "metadata": {},
          "execution_count": 55
        },
        {
          "output_type": "display_data",
          "data": {
            "text/plain": [
              "<Figure size 432x288 with 1 Axes>"
            ],
            "image/png": "[encoded data removed]"
          },
          "metadata": {
            "needs_background": "light"
          }
        }
      ]
    },
    {
      "cell_type": "markdown",
      "source": [
        "LSTMs are not so good at extrapolating data. Thus it's advisable to choose a date closer to the range to predict. It does not make much use of Historic data"
      ],
      "metadata": {
        "id": "-VWb0HH_ZBSP"
      }
    },
    {
      "cell_type": "markdown",
      "source": [
        "#Manually forecasting the future predictions using the data we actually have"
      ],
      "metadata": {
        "id": "xtX4gGUrZ8d6"
      }
    },
    {
      "cell_type": "code",
      "source": [
        "from copy import deepcopy\n",
        "recursive_predictions = []\n",
        "recursive_dates = np.concatenate([dates_val,dates_test])\n",
        "\n",
        "for target_date in recursive_dates:\n",
        "  last_window = deepcopy(X_train[-1])\n",
        "  next_prediction = model.predict(np.array([last_window])).flatten()\n",
        "  recursive_predictions.append(next_prediction)\n",
        "  last_window[-1] = next_prediction"
      ],
      "metadata": {
        "id": "EhpqeDMgZEYx"
      },
      "execution_count": null,
      "outputs": []
    },
    {
      "cell_type": "code",
      "source": [
        "plt.plot(recursive_dates,recursive_predictions)\n",
        "plt.plot(dates_test,y_test)\n",
        "plt.legend(['Recursive Predictions','Actual Test'])\n"
      ],
      "metadata": {
        "colab": {
          "base_uri": "https://localhost:8080/",
          "height": 282
        },
        "id": "9BCCxN99azrs",
        "outputId": "8b472a8a-43c2-499d-84ce-1b92fb44885d"
      },
      "execution_count": null,
      "outputs": [
        {
          "output_type": "execute_result",
          "data": {
            "text/plain": [
              "<matplotlib.legend.Legend at 0x7f119e9ea150>"
            ]
          },
          "metadata": {},
          "execution_count": 60
        },
        {
          "output_type": "display_data",
          "data": {
            "text/plain": [
              "<Figure size 432x288 with 1 Axes>"
            ],
            "image/png": "[encoded data removed]"
          },
          "metadata": {
            "needs_background": "light"
          }
        }
      ]
    }
  ]
}